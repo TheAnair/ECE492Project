{
 "cells": [
  {
   "cell_type": "code",
   "execution_count": 67,
   "metadata": {},
   "outputs": [
    {
     "name": "stdout",
     "output_type": "stream",
     "text": [
      "Requirement already satisfied: tensorflow in /Users/aadithyanair/opt/anaconda3/lib/python3.8/site-packages (2.11.0)\n",
      "Requirement already satisfied: typing-extensions>=3.6.6 in /Users/aadithyanair/opt/anaconda3/lib/python3.8/site-packages (from tensorflow) (4.4.0)\n",
      "Requirement already satisfied: keras<2.12,>=2.11.0 in /Users/aadithyanair/opt/anaconda3/lib/python3.8/site-packages (from tensorflow) (2.11.0)\n",
      "Requirement already satisfied: gast<=0.4.0,>=0.2.1 in /Users/aadithyanair/opt/anaconda3/lib/python3.8/site-packages (from tensorflow) (0.4.0)\n",
      "Requirement already satisfied: grpcio<2.0,>=1.24.3 in /Users/aadithyanair/opt/anaconda3/lib/python3.8/site-packages (from tensorflow) (1.51.1)\n",
      "Requirement already satisfied: six>=1.12.0 in /Users/aadithyanair/opt/anaconda3/lib/python3.8/site-packages (from tensorflow) (1.15.0)\n",
      "Requirement already satisfied: setuptools in /Users/aadithyanair/opt/anaconda3/lib/python3.8/site-packages (from tensorflow) (50.3.1.post20201107)\n",
      "Requirement already satisfied: protobuf<3.20,>=3.9.2 in /Users/aadithyanair/opt/anaconda3/lib/python3.8/site-packages (from tensorflow) (3.19.6)\n",
      "Requirement already satisfied: tensorflow-estimator<2.12,>=2.11.0 in /Users/aadithyanair/opt/anaconda3/lib/python3.8/site-packages (from tensorflow) (2.11.0)\n",
      "Requirement already satisfied: astunparse>=1.6.0 in /Users/aadithyanair/opt/anaconda3/lib/python3.8/site-packages (from tensorflow) (1.6.3)\n",
      "Requirement already satisfied: packaging in /Users/aadithyanair/opt/anaconda3/lib/python3.8/site-packages (from tensorflow) (21.3)\n",
      "Requirement already satisfied: wrapt>=1.11.0 in /Users/aadithyanair/opt/anaconda3/lib/python3.8/site-packages (from tensorflow) (1.11.2)\n",
      "Requirement already satisfied: termcolor>=1.1.0 in /Users/aadithyanair/opt/anaconda3/lib/python3.8/site-packages (from tensorflow) (2.1.1)\n",
      "Requirement already satisfied: numpy>=1.20 in /Users/aadithyanair/opt/anaconda3/lib/python3.8/site-packages (from tensorflow) (1.23.5)\n",
      "Requirement already satisfied: libclang>=13.0.0 in /Users/aadithyanair/opt/anaconda3/lib/python3.8/site-packages (from tensorflow) (14.0.6)\n",
      "Requirement already satisfied: opt-einsum>=2.3.2 in /Users/aadithyanair/opt/anaconda3/lib/python3.8/site-packages (from tensorflow) (3.3.0)\n",
      "Requirement already satisfied: h5py>=2.9.0 in /Users/aadithyanair/opt/anaconda3/lib/python3.8/site-packages (from tensorflow) (2.10.0)\n",
      "Requirement already satisfied: absl-py>=1.0.0 in /Users/aadithyanair/opt/anaconda3/lib/python3.8/site-packages (from tensorflow) (1.3.0)\n",
      "Requirement already satisfied: flatbuffers>=2.0 in /Users/aadithyanair/opt/anaconda3/lib/python3.8/site-packages (from tensorflow) (22.12.6)\n",
      "Requirement already satisfied: google-pasta>=0.1.1 in /Users/aadithyanair/opt/anaconda3/lib/python3.8/site-packages (from tensorflow) (0.2.0)\n",
      "Requirement already satisfied: tensorflow-io-gcs-filesystem>=0.23.1; platform_machine != \"arm64\" or platform_system != \"Darwin\" in /Users/aadithyanair/opt/anaconda3/lib/python3.8/site-packages (from tensorflow) (0.28.0)\n",
      "Requirement already satisfied: tensorboard<2.12,>=2.11 in /Users/aadithyanair/opt/anaconda3/lib/python3.8/site-packages (from tensorflow) (2.11.0)\n",
      "Requirement already satisfied: wheel<1.0,>=0.23.0 in /Users/aadithyanair/opt/anaconda3/lib/python3.8/site-packages (from astunparse>=1.6.0->tensorflow) (0.35.1)\n",
      "Requirement already satisfied: pyparsing!=3.0.5,>=2.0.2 in /Users/aadithyanair/opt/anaconda3/lib/python3.8/site-packages (from packaging->tensorflow) (2.4.7)\n",
      "Requirement already satisfied: tensorboard-data-server<0.7.0,>=0.6.0 in /Users/aadithyanair/opt/anaconda3/lib/python3.8/site-packages (from tensorboard<2.12,>=2.11->tensorflow) (0.6.1)\n",
      "Requirement already satisfied: werkzeug>=1.0.1 in /Users/aadithyanair/opt/anaconda3/lib/python3.8/site-packages (from tensorboard<2.12,>=2.11->tensorflow) (1.0.1)\n",
      "Requirement already satisfied: requests<3,>=2.21.0 in /Users/aadithyanair/opt/anaconda3/lib/python3.8/site-packages (from tensorboard<2.12,>=2.11->tensorflow) (2.28.1)\n",
      "Requirement already satisfied: google-auth<3,>=1.6.3 in /Users/aadithyanair/opt/anaconda3/lib/python3.8/site-packages (from tensorboard<2.12,>=2.11->tensorflow) (2.15.0)\n",
      "Requirement already satisfied: google-auth-oauthlib<0.5,>=0.4.1 in /Users/aadithyanair/opt/anaconda3/lib/python3.8/site-packages (from tensorboard<2.12,>=2.11->tensorflow) (0.4.6)\n",
      "Requirement already satisfied: tensorboard-plugin-wit>=1.6.0 in /Users/aadithyanair/opt/anaconda3/lib/python3.8/site-packages (from tensorboard<2.12,>=2.11->tensorflow) (1.8.1)\n",
      "Requirement already satisfied: markdown>=2.6.8 in /Users/aadithyanair/opt/anaconda3/lib/python3.8/site-packages (from tensorboard<2.12,>=2.11->tensorflow) (3.4.1)\n",
      "Requirement already satisfied: urllib3<1.27,>=1.21.1 in /Users/aadithyanair/opt/anaconda3/lib/python3.8/site-packages (from requests<3,>=2.21.0->tensorboard<2.12,>=2.11->tensorflow) (1.26.12)\n",
      "Requirement already satisfied: charset-normalizer<3,>=2 in /Users/aadithyanair/opt/anaconda3/lib/python3.8/site-packages (from requests<3,>=2.21.0->tensorboard<2.12,>=2.11->tensorflow) (2.1.1)\n",
      "Requirement already satisfied: certifi>=2017.4.17 in /Users/aadithyanair/opt/anaconda3/lib/python3.8/site-packages (from requests<3,>=2.21.0->tensorboard<2.12,>=2.11->tensorflow) (2022.12.7)\n",
      "Requirement already satisfied: idna<4,>=2.5 in /Users/aadithyanair/opt/anaconda3/lib/python3.8/site-packages (from requests<3,>=2.21.0->tensorboard<2.12,>=2.11->tensorflow) (2.10)\n",
      "Requirement already satisfied: rsa<5,>=3.1.4; python_version >= \"3.6\" in /Users/aadithyanair/opt/anaconda3/lib/python3.8/site-packages (from google-auth<3,>=1.6.3->tensorboard<2.12,>=2.11->tensorflow) (4.9)\n",
      "Requirement already satisfied: cachetools<6.0,>=2.0.0 in /Users/aadithyanair/opt/anaconda3/lib/python3.8/site-packages (from google-auth<3,>=1.6.3->tensorboard<2.12,>=2.11->tensorflow) (5.2.0)\n",
      "Requirement already satisfied: pyasn1-modules>=0.2.1 in /Users/aadithyanair/opt/anaconda3/lib/python3.8/site-packages (from google-auth<3,>=1.6.3->tensorboard<2.12,>=2.11->tensorflow) (0.2.8)\n",
      "Requirement already satisfied: requests-oauthlib>=0.7.0 in /Users/aadithyanair/opt/anaconda3/lib/python3.8/site-packages (from google-auth-oauthlib<0.5,>=0.4.1->tensorboard<2.12,>=2.11->tensorflow) (1.3.1)\n",
      "Requirement already satisfied: importlib-metadata>=4.4; python_version < \"3.10\" in /Users/aadithyanair/opt/anaconda3/lib/python3.8/site-packages (from markdown>=2.6.8->tensorboard<2.12,>=2.11->tensorflow) (5.1.0)\n",
      "Requirement already satisfied: pyasn1>=0.1.3 in /Users/aadithyanair/opt/anaconda3/lib/python3.8/site-packages (from rsa<5,>=3.1.4; python_version >= \"3.6\"->google-auth<3,>=1.6.3->tensorboard<2.12,>=2.11->tensorflow) (0.4.8)\n",
      "Requirement already satisfied: oauthlib>=3.0.0 in /Users/aadithyanair/opt/anaconda3/lib/python3.8/site-packages (from requests-oauthlib>=0.7.0->google-auth-oauthlib<0.5,>=0.4.1->tensorboard<2.12,>=2.11->tensorflow) (3.2.2)\n",
      "Requirement already satisfied: zipp>=0.5 in /Users/aadithyanair/opt/anaconda3/lib/python3.8/site-packages (from importlib-metadata>=4.4; python_version < \"3.10\"->markdown>=2.6.8->tensorboard<2.12,>=2.11->tensorflow) (3.4.0)\n",
      "Requirement already satisfied: opencv-python in /Users/aadithyanair/opt/anaconda3/lib/python3.8/site-packages (4.6.0.66)\n",
      "Requirement already satisfied: numpy>=1.14.5; python_version >= \"3.7\" in /Users/aadithyanair/opt/anaconda3/lib/python3.8/site-packages (from opencv-python) (1.23.5)\n"
     ]
    }
   ],
   "source": [
    "    !pip3 install tensorflow\n",
    "    !pip3 install opencv-python\n"
   ]
  },
  {
   "cell_type": "code",
   "execution_count": 68,
   "metadata": {},
   "outputs": [],
   "source": [
    "import tensorflow as  tf\n",
    "from tensorflow.keras.models import Sequential, Model, model_from_json, load_model\n",
    "from tensorflow.keras.layers import *\n",
    "from tensorflow.keras import optimizers\n",
    "from tensorflow.keras.applications.resnet50 import ResNet50\n",
    "from sklearn.metrics import classification_report\n",
    "import pandas as pd\n",
    "import matplotlib.pyplot as plt\n",
    "import os\n",
    "import cv2\n",
    "import string\n",
    "import tensorflow.keras as keras\n",
    "import numpy as numpy\n",
    "from keras.callbacks import EarlyStopping\n",
    "from tensorflow.keras.utils import load_img, img_to_array\n",
    "\n",
    "\n",
    "\n",
    "\n"
   ]
  },
  {
   "cell_type": "code",
   "execution_count": 69,
   "metadata": {},
   "outputs": [],
   "source": [
    "from sklearn.model_selection import train_test_split\n",
    "from sklearn.tree import DecisionTreeRegressor"
   ]
  },
  {
   "cell_type": "code",
   "execution_count": 70,
   "metadata": {},
   "outputs": [
    {
     "name": "stdout",
     "output_type": "stream",
     "text": [
      "{'commit_hash': '223e783c4',\n",
      " 'commit_source': 'installation',\n",
      " 'default_encoding': 'utf-8',\n",
      " 'ipython_path': '/Users/aadithyanair/opt/anaconda3/lib/python3.8/site-packages/IPython',\n",
      " 'ipython_version': '7.19.0',\n",
      " 'os_name': 'posix',\n",
      " 'platform': 'macOS-10.15.5-x86_64-i386-64bit',\n",
      " 'sys_executable': '/Users/aadithyanair/opt/anaconda3/bin/python',\n",
      " 'sys_platform': 'darwin',\n",
      " 'sys_version': '3.8.5 (default, Sep  4 2020, 02:22:02) \\n[Clang 10.0.0 ]'}\n"
     ]
    }
   ],
   "source": [
    "import IPython\n",
    "print(IPython.sys_info())\n"
   ]
  },
  {
   "cell_type": "code",
   "execution_count": 71,
   "metadata": {},
   "outputs": [],
   "source": [
    "TRAIN_RATIO = 0.6\n",
    "VALIDATION_RATIO = 0.2\n",
    "TEST_RATIO = 0.2\n",
    "mnist = tf.keras.datasets.mnist\n",
    "\n",
    "# train is now 60% of the entire data set\n",
    "(x_train, y_train), (x_test, y_test) = mnist.load_data()\n",
    "\n",
    "X = numpy.concatenate([x_train, x_test])\n",
    "y = numpy.concatenate([y_train, y_test])\n",
    "\n",
    "x_train, x_val, y_train, y_val = train_test_split(X, y, test_size=(1-TRAIN_RATIO))\n",
    "x_val, x_test, y_val, y_test = train_test_split(x_val, y_val, test_size=((TEST_RATIO/(VALIDATION_RATIO+TEST_RATIO))))\n",
    "#Normalize the data\n",
    "x_train = tf.keras.utils.normalize(x_train, axis = -1)\n",
    "x_test = tf.keras.utils.normalize(x_test, axis = -1)\n",
    "x_val = tf.keras.utils.normalize(x_val, axis = -1)\n"
   ]
  },
  {
   "cell_type": "markdown",
   "metadata": {},
   "source": [
    "# Plotting some of the data"
   ]
  },
  {
   "cell_type": "markdown",
   "metadata": {},
   "source": [
    "First 16 images:"
   ]
  },
  {
   "cell_type": "code",
   "execution_count": 72,
   "metadata": {},
   "outputs": [
    {
     "data": {
      "image/png": "[encoded data removed]",
      "text/plain": [
       "<Figure size 432x288 with 16 Axes>"
      ]
     },
     "metadata": {
      "needs_background": "light"
     },
     "output_type": "display_data"
    }
   ],
   "source": [
    "fig, axs = plt.subplots(4, 4)\n",
    "count = 0\n",
    "for i in range(4):\n",
    "    for j in range(4):\n",
    "        axs[i,j].imshow(x_train[count])\n",
    "        count += 1"
   ]
  },
  {
   "cell_type": "markdown",
   "metadata": {},
   "source": [
    "# Basic ANN Model"
   ]
  },
  {
   "cell_type": "code",
   "execution_count": 79,
   "metadata": {},
   "outputs": [
    {
     "name": "stdout",
     "output_type": "stream",
     "text": [
      "Model: \"sequential_7\"\n",
      "_________________________________________________________________\n",
      " Layer (type)                Output Shape              Param #   \n",
      "=================================================================\n",
      " flatten_3 (Flatten)         (None, 784)               0         \n",
      "                                                                 \n",
      " dense_14 (Dense)            (None, 128)               100480    \n",
      "                                                                 \n",
      " dense_15 (Dense)            (None, 128)               16512     \n",
      "                                                                 \n",
      " dense_16 (Dense)            (None, 20)                2580      \n",
      "                                                                 \n",
      "=================================================================\n",
      "Total params: 119,572\n",
      "Trainable params: 119,572\n",
      "Non-trainable params: 0\n",
      "_________________________________________________________________\n",
      "Epoch 1/10\n",
      "420/420 [==============================] - 3s 5ms/step - loss: 0.4659 - accuracy: 0.8678 - val_loss: 0.2192 - val_accuracy: 0.9345\n",
      "Epoch 2/10\n",
      "420/420 [==============================] - 2s 4ms/step - loss: 0.1722 - accuracy: 0.9474 - val_loss: 0.1581 - val_accuracy: 0.9539\n",
      "Epoch 3/10\n",
      "420/420 [==============================] - 2s 4ms/step - loss: 0.1173 - accuracy: 0.9647 - val_loss: 0.1336 - val_accuracy: 0.9596\n",
      "Epoch 4/10\n",
      "420/420 [==============================] - 2s 4ms/step - loss: 0.0915 - accuracy: 0.9720 - val_loss: 0.1196 - val_accuracy: 0.9642\n",
      "Epoch 5/10\n",
      "420/420 [==============================] - 2s 4ms/step - loss: 0.0746 - accuracy: 0.9773 - val_loss: 0.1111 - val_accuracy: 0.9667\n",
      "Epoch 6/10\n",
      "420/420 [==============================] - 1s 3ms/step - loss: 0.0597 - accuracy: 0.9815 - val_loss: 0.1098 - val_accuracy: 0.9667\n",
      "Epoch 7/10\n",
      "420/420 [==============================] - 1s 3ms/step - loss: 0.0473 - accuracy: 0.9855 - val_loss: 0.1060 - val_accuracy: 0.9681\n",
      "Epoch 8/10\n",
      "420/420 [==============================] - 1s 3ms/step - loss: 0.0392 - accuracy: 0.9881 - val_loss: 0.1039 - val_accuracy: 0.9700\n",
      "Epoch 9/10\n",
      "420/420 [==============================] - 1s 3ms/step - loss: 0.0309 - accuracy: 0.9910 - val_loss: 0.1047 - val_accuracy: 0.9715\n",
      "Epoch 10/10\n",
      "420/420 [==============================] - 1s 3ms/step - loss: 0.0277 - accuracy: 0.9914 - val_loss: 0.1148 - val_accuracy: 0.9686\n"
     ]
    },
    {
     "data": {
      "text/plain": [
       "<keras.callbacks.History at 0x7f9589239c70>"
      ]
     },
     "execution_count": 79,
     "metadata": {},
     "output_type": "execute_result"
    }
   ],
   "source": [
    "baseModel = Sequential()\n",
    "baseModel.add(Flatten(input_shape=(28,28)))\n",
    "baseModel.add(Dense(units = 128, activation = 'relu'))\n",
    "baseModel.add(Dense(units = 128, activation = 'relu'))\n",
    "baseModel.add(Dense(units = 20, activation = 'softmax'))\n",
    "baseModel.summary()\n",
    "\n",
    "baseModel.compile(optimizer='adam', loss='sparse_categorical_crossentropy', metrics=['accuracy'])\n",
    "baseModel.fit(x_train, y_train, validation_data = (x_val, y_val), epochs=10, batch_size=100)\n"
   ]
  },
  {
   "cell_type": "code",
   "execution_count": 80,
   "metadata": {},
   "outputs": [
    {
     "name": "stdout",
     "output_type": "stream",
     "text": [
      "438/438 [==============================] - 1s 2ms/step - loss: 0.1116 - accuracy: 0.9694\n",
      "Loss :  0.11160706728696823\n",
      "Accuracy :  0.9693571329116821\n"
     ]
    }
   ],
   "source": [
    "annloss, annaccuracy = baseModel.evaluate(x_test, y_test)\n",
    "print(\"Loss : \", annloss)\n",
    "print(\"Accuracy : \", annaccuracy)"
   ]
  },
  {
   "cell_type": "code",
   "execution_count": 28,
   "metadata": {},
   "outputs": [
    {
     "name": "stdout",
     "output_type": "stream",
     "text": [
      "219/219 [==============================] - 0s 1ms/step\n",
      "              precision    recall  f1-score   support\n",
      "\n",
      "           0       0.98      0.99      0.98      1359\n",
      "           1       0.99      0.99      0.99      1589\n",
      "           2       0.97      0.97      0.97      1358\n",
      "           3       0.98      0.97      0.97      1429\n",
      "           4       0.96      0.98      0.97      1355\n",
      "           5       0.98      0.97      0.97      1315\n",
      "           6       0.99      0.99      0.99      1358\n",
      "           7       0.96      0.98      0.97      1446\n",
      "           8       0.97      0.97      0.97      1395\n",
      "           9       0.98      0.94      0.96      1396\n",
      "\n",
      "    accuracy                           0.97     14000\n",
      "   macro avg       0.97      0.97      0.97     14000\n",
      "weighted avg       0.97      0.97      0.97     14000\n",
      "\n",
      "438/438 [==============================] - 1s 2ms/step\n",
      "Prediction:  1\n"
     ]
    },
    {
     "data": {
      "image/png": "[encoded data removed]",
      "text/plain": [
       "<Figure size 432x288 with 1 Axes>"
      ]
     },
     "metadata": {
      "needs_background": "light"
     },
     "output_type": "display_data"
    }
   ],
   "source": [
    "\n",
    "y_pred = baseModel.predict(x_test, batch_size=64, verbose=1)\n",
    "y_pred_bool = numpy.argmax(y_pred, axis=1)\n",
    "\n",
    "\n",
    "\n",
    "print(classification_report(y_test, y_pred_bool))\n",
    "\n",
    "\n",
    "prediction = baseModel.predict([x_test])\n",
    "print('Prediction: ', numpy.argmax(prediction[20]))\n",
    "plt.imshow(x_test[20])\n",
    "plt.show()\n"
   ]
  },
  {
   "cell_type": "code",
   "execution_count": 78,
   "metadata": {},
   "outputs": [
    {
     "name": "stdout",
     "output_type": "stream",
     "text": [
      "438/438 [==============================] - 1s 2ms/step - loss: 0.0520 - accuracy: 0.9867\n",
      "Loss :  0.052027519792318344\n",
      "Accuracy :  0.9867143034934998\n"
     ]
    }
   ],
   "source": [
    "baseModel_json = baseModel.to_json()\n",
    "with open(\"baseModel.json\", \"w\") as json_file:\n",
    "    json_file.write(baseModel_json)\n",
    "baseModel.save_weights(\"model.h5\")\n",
    "\n",
    "baseModeljsonfile = open('baseModel.json', 'r')\n",
    "loaded_baseModel_json = baseModeljsonfile.read()\n",
    "baseModeljsonfile.close()\n",
    "baseModelNew = model_from_json(loaded_baseModel_json)\n",
    "baseModelNew.load_weights(\"model.h5\")\n",
    "\n",
    "baseModelNew.compile(optimizer='adam', loss='sparse_categorical_crossentropy', metrics=['accuracy'])\n",
    "loss, accuracy = baseModelNew.evaluate(x_test, y_test)\n",
    "\n",
    "print(\"Loss : \", annloss)\n",
    "print(\"Accuracy : \", annaccuracy)\n"
   ]
  },
  {
   "cell_type": "code",
   "execution_count": 73,
   "metadata": {},
   "outputs": [],
   "source": [
    "def load_image(filename):\n",
    "    img = load_img(filename, grayscale = True, target_size=(28,28))\n",
    "    img = img_to_array(img)\n",
    "    img = img.reshape(1, 28, 28, 1)\n",
    "\n",
    "    img = img.astype('float32')\n",
    "    img = img/255.0\n",
    "    return img\n"
   ]
  },
  {
   "cell_type": "code",
   "execution_count": 75,
   "metadata": {
    "scrolled": true
   },
   "outputs": [
    {
     "name": "stdout",
     "output_type": "stream",
     "text": [
      "What is the file namesample_image0.png\n",
      "1/1 [==============================] - 0s 53ms/step\n",
      "0\n"
     ]
    }
   ],
   "source": [
    "file = input(\"What is the file name\")\n",
    "img = load_image(file)\n",
    "predict_value = baseModelNew.predict(img)\n",
    "digit = numpy.argmax(predict_value)\n",
    "print(digit)\n"
   ]
  },
  {
   "cell_type": "code",
   "execution_count": 76,
   "metadata": {},
   "outputs": [],
   "source": [
    "loss1 = str(annloss)\n",
    "accuracy1 = str(annaccuracy)\n",
    "digit1 = str(anndigit)"
   ]
  },
  {
   "cell_type": "code",
   "execution_count": 77,
   "metadata": {},
   "outputs": [],
   "source": [
    "with open('resultsANN.txt', 'w') as f:\n",
    "    f.write(\"This is the loss \\n\")\n",
    "    f.writelines(loss1)\n",
    "    f.write(\"\\n\")\n",
    "    f.write(\"This is the accuracy \\n\")\n",
    "    f.writelines(accuracy1)\n",
    "    f.write(\"\\n\")\n",
    "    f.write(\"Based on the file inputted, the ANN Model predicts that the value is :\")\n",
    "    f.write(\"\\n\")\n",
    "    f.writelines(digit1)\n",
    "    f.close()"
   ]
  },
  {
   "cell_type": "markdown",
   "metadata": {},
   "source": [
    "# Bi-Directional LSTM Implementation\n"
   ]
  },
  {
   "cell_type": "code",
   "execution_count": 35,
   "metadata": {},
   "outputs": [],
   "source": [
    "from tensorflow.keras.layers import Bidirectional\n"
   ]
  },
  {
   "cell_type": "code",
   "execution_count": 36,
   "metadata": {},
   "outputs": [
    {
     "name": "stdout",
     "output_type": "stream",
     "text": [
      "Epoch 1/5\n",
      "657/657 [==============================] - 214s 318ms/step - loss: 0.6997 - accuracy: 0.7684 - val_loss: 0.2149 - val_accuracy: 0.9311\n",
      "Epoch 2/5\n",
      "657/657 [==============================] - 194s 295ms/step - loss: 0.1628 - accuracy: 0.9491 - val_loss: 0.1181 - val_accuracy: 0.9639\n",
      "Epoch 3/5\n",
      "657/657 [==============================] - 186s 283ms/step - loss: 0.1030 - accuracy: 0.9688 - val_loss: 0.0954 - val_accuracy: 0.9715\n",
      "Epoch 4/5\n",
      "657/657 [==============================] - 187s 284ms/step - loss: 0.0784 - accuracy: 0.9755 - val_loss: 0.1147 - val_accuracy: 0.9654\n",
      "Epoch 5/5\n",
      "657/657 [==============================] - 186s 284ms/step - loss: 0.0600 - accuracy: 0.9813 - val_loss: 0.0794 - val_accuracy: 0.9765\n",
      "438/438 [==============================] - 20s 45ms/step - loss: 0.0811 - accuracy: 0.9761\n"
     ]
    },
    {
     "data": {
      "text/plain": [
       "[0.08108434081077576, 0.9761428833007812]"
      ]
     },
     "execution_count": 36,
     "metadata": {},
     "output_type": "execute_result"
    }
   ],
   "source": [
    "bmodel = Sequential([\n",
    "    Bidirectional(LSTM(256, input_shape=(28,28), return_sequences=True, activation='relu')),\n",
    "    Bidirectional(LSTM(256, activation='relu')),\n",
    "    Dense(10, activation='softmax')  \n",
    "    ])\n",
    "bmodel.compile(optimizer='adam', loss='sparse_categorical_crossentropy', metrics=['accuracy'])\n",
    "early = EarlyStopping(patience=5)\n",
    "bmodel.fit(x_train, y_train, validation_data = (x_val, y_val), verbose=1, batch_size=64, epochs=5, callbacks=early)\n",
    "bmodel.evaluate(x_test, y_test)"
   ]
  },
  {
   "cell_type": "code",
   "execution_count": 170,
   "metadata": {},
   "outputs": [
    {
     "name": "stdout",
     "output_type": "stream",
     "text": [
      "438/438 [==============================] - 26s 59ms/step - loss: 0.0723 - accuracy: 0.9758\n",
      "loss:  0.07227317988872528\n",
      "accuracy:  0.9757857322692871\n",
      "219/219 [==============================] - 19s 82ms/step\n",
      "              precision    recall  f1-score   support\n",
      "\n",
      "           0       0.99      0.98      0.98      1416\n",
      "           1       0.99      0.99      0.99      1556\n",
      "           2       0.98      0.98      0.98      1379\n",
      "           3       0.97      0.99      0.98      1421\n",
      "           4       0.94      0.99      0.96      1362\n",
      "           5       0.99      0.97      0.98      1264\n",
      "           6       0.99      0.95      0.97      1366\n",
      "           7       0.99      0.97      0.98      1499\n",
      "           8       0.99      0.95      0.97      1324\n",
      "           9       0.93      0.98      0.96      1413\n",
      "\n",
      "    accuracy                           0.98     14000\n",
      "   macro avg       0.98      0.98      0.98     14000\n",
      "weighted avg       0.98      0.98      0.98     14000\n",
      "\n",
      "WARNING:tensorflow:Layers in a Sequential model should only have a single input tensor. Received: inputs=(<tf.Tensor 'IteratorGetNext:0' shape=(None, 28, 28) dtype=float32>,). Consider rewriting this model with the Functional API.\n",
      "438/438 [==============================] - 23s 52ms/step\n",
      "Prediction:  2\n"
     ]
    },
    {
     "data": {
      "image/png": "[encoded data removed]",
      "text/plain": [
       "<Figure size 432x288 with 1 Axes>"
      ]
     },
     "metadata": {
      "needs_background": "light"
     },
     "output_type": "display_data"
    }
   ],
   "source": [
    "loss, accuracy = bmodel.evaluate(x_test, y_test)\n",
    "print(\"loss: \", loss)\n",
    "print(\"accuracy: \", accuracy)\n",
    "\n",
    "y_pred = bmodel.predict(x_test, batch_size=64, verbose=1)\n",
    "y_pred_bool = numpy.argmax(y_pred, axis=1)\n",
    "\n",
    "print(classification_report(y_test, y_pred_bool))\n",
    "\n",
    "prediction = bmodel.predict([x_test])\n",
    "print('Prediction: ', numpy.argmax(prediction[13]))\n",
    "plt.imshow(x_test[13])\n",
    "plt.show()"
   ]
  },
  {
   "cell_type": "code",
   "execution_count": 40,
   "metadata": {},
   "outputs": [
    {
     "name": "stdout",
     "output_type": "stream",
     "text": [
      "438/438 [==============================] - 22s 48ms/step - loss: 0.0811 - accuracy: 0.9761\n",
      "What is the file namesample_image3.png\n",
      "WARNING:tensorflow:5 out of the last 442 calls to <function Model.make_predict_function.<locals>.predict_function at 0x7f95aef99af0> triggered tf.function retracing. Tracing is expensive and the excessive number of tracings could be due to (1) creating @tf.function repeatedly in a loop, (2) passing tensors with different shapes, (3) passing Python objects instead of tensors. For (1), please define your @tf.function outside of the loop. For (2), @tf.function has reduce_retracing=True option that can avoid unnecessary retracing. For (3), please refer to https://www.tensorflow.org/guide/function#controlling_retracing and https://www.tensorflow.org/api_docs/python/tf/function for  more details.\n",
      "1/1 [==============================] - 0s 430ms/step\n",
      "3\n"
     ]
    }
   ],
   "source": [
    "bdLSTMModel_json = bmodel.to_json()\n",
    "with open(\"bdLSTMModel.json\", \"w\") as json_file:\n",
    "    json_file.write(bdLSTMModel_json)\n",
    "bmodel.save_weights(\"bdModel.h5\")\n",
    "\n",
    "bdLSTMModeljsonfile = open('bdLSTMModel.json', 'r')\n",
    "loaded_bdLSTMModel_json = bdLSTMModeljsonfile.read()\n",
    "bdLSTMModeljsonfile.close()\n",
    "bdLSTMModelNew = model_from_json(loaded_bdLSTMModel_json)\n",
    "bdLSTMModelNew.load_weights(\"bdModel.h5\")\n",
    "\n",
    "bdLSTMModelNew.compile(optimizer='adam', loss='sparse_categorical_crossentropy', metrics=['accuracy'])\n",
    "bdloss, bdaccuracy = bdLSTMModelNew.evaluate(x_test, y_test)\n",
    "\n"
   ]
  },
  {
   "cell_type": "code",
   "execution_count": 66,
   "metadata": {},
   "outputs": [
    {
     "name": "stdout",
     "output_type": "stream",
     "text": [
      "What is the file namesample_image3.png\n",
      "1/1 [==============================] - 0s 25ms/step\n",
      "3\n"
     ]
    }
   ],
   "source": [
    "loss1 = str(bdloss)\n",
    "accuracy1 = str(bdaccuracy)\n",
    "file = input(\"What is the file name\")\n",
    "img = load_image(file)\n",
    "predict_value = bdLSTMModelNew.predict(img)\n",
    "bddigit = numpy.argmax(predict_value)\n",
    "print(bddigit)\n",
    "digit1 = str(bddigit)\n",
    "with open('resultsBiDirectionalLSTM.txt', 'w') as f:\n",
    "    f.write(\"This is the loss \\n\")\n",
    "    f.writelines(loss1)\n",
    "    f.write(\"\\n\")\n",
    "    f.write(\"This is the accuracy \\n\")\n",
    "    f.writelines(accuracy1)\n",
    "    f.write(\"\\n\")\n",
    "    f.write(\"Based on the file inputted, the Bi Directional LSTM Model predicts that the value is :\")\n",
    "    f.write(\"\\n\")\n",
    "    f.writelines(digit1)\n",
    "    f.close()"
   ]
  },
  {
   "cell_type": "markdown",
   "metadata": {},
   "source": [
    "# RNN-LSTM Implementation"
   ]
  },
  {
   "cell_type": "code",
   "execution_count": 42,
   "metadata": {},
   "outputs": [
    {
     "name": "stdout",
     "output_type": "stream",
     "text": [
      "Model: \"sequential_3\"\n",
      "_________________________________________________________________\n",
      " Layer (type)                Output Shape              Param #   \n",
      "=================================================================\n",
      " lstm_2 (LSTM)               (None, 28, 256)           291840    \n",
      "                                                                 \n",
      " lstm_3 (LSTM)               (None, 256)               525312    \n",
      "                                                                 \n",
      " dense_7 (Dense)             (None, 64)                16448     \n",
      "                                                                 \n",
      " dropout (Dropout)           (None, 64)                0         \n",
      "                                                                 \n",
      " dense_8 (Dense)             (None, 10)                650       \n",
      "                                                                 \n",
      "=================================================================\n",
      "Total params: 834,250\n",
      "Trainable params: 834,250\n",
      "Non-trainable params: 0\n",
      "_________________________________________________________________\n",
      "Epoch 1/2\n",
      "329/329 [==============================] - 69s 201ms/step - loss: 2.2315 - accuracy: 0.2910 - val_loss: 2.1135 - val_accuracy: 0.2639\n",
      "Epoch 2/2\n",
      "329/329 [==============================] - 66s 200ms/step - loss: 1.7741 - accuracy: 0.4452 - val_loss: 1.3246 - val_accuracy: 0.6231\n",
      "438/438 [==============================] - 9s 21ms/step - loss: 1.3097 - accuracy: 0.6312\n",
      "test loss, test acc: [1.3096842765808105, 0.6312142610549927]\n",
      "Model: \"sequential_3\"\n",
      "_________________________________________________________________\n",
      " Layer (type)                Output Shape              Param #   \n",
      "=================================================================\n",
      " lstm_2 (LSTM)               (None, 28, 256)           291840    \n",
      "                                                                 \n",
      " lstm_3 (LSTM)               (None, 256)               525312    \n",
      "                                                                 \n",
      " dense_7 (Dense)             (None, 64)                16448     \n",
      "                                                                 \n",
      " dropout (Dropout)           (None, 64)                0         \n",
      "                                                                 \n",
      " dense_8 (Dense)             (None, 10)                650       \n",
      "                                                                 \n",
      "=================================================================\n",
      "Total params: 834,250\n",
      "Trainable params: 834,250\n",
      "Non-trainable params: 0\n",
      "_________________________________________________________________\n",
      "438/438 [==============================] - 9s 21ms/step - loss: 1.3097 - accuracy: 0.6312\n",
      "Loss :  1.3096842765808105\n",
      "Accuracy :  0.6312142610549927\n",
      "WARNING:tensorflow:6 out of the last 443 calls to <function Model.make_predict_function.<locals>.predict_function at 0x7f95ac7ca8b0> triggered tf.function retracing. Tracing is expensive and the excessive number of tracings could be due to (1) creating @tf.function repeatedly in a loop, (2) passing tensors with different shapes, (3) passing Python objects instead of tensors. For (1), please define your @tf.function outside of the loop. For (2), @tf.function has reduce_retracing=True option that can avoid unnecessary retracing. For (3), please refer to https://www.tensorflow.org/guide/function#controlling_retracing and https://www.tensorflow.org/api_docs/python/tf/function for  more details.\n",
      "219/219 [==============================] - 8s 35ms/step\n",
      "              precision    recall  f1-score   support\n",
      "\n",
      "           0       0.89      0.79      0.84      1359\n",
      "           1       0.94      0.94      0.94      1589\n",
      "           2       0.79      0.28      0.41      1358\n",
      "           3       0.63      0.64      0.64      1429\n",
      "           4       0.45      0.50      0.47      1355\n",
      "           5       0.34      0.51      0.41      1315\n",
      "           6       0.75      0.94      0.83      1358\n",
      "           7       0.74      0.80      0.77      1446\n",
      "           8       0.45      0.29      0.35      1395\n",
      "           9       0.48      0.56      0.52      1396\n",
      "\n",
      "    accuracy                           0.63     14000\n",
      "   macro avg       0.65      0.63      0.62     14000\n",
      "weighted avg       0.65      0.63      0.62     14000\n",
      "\n",
      "438/438 [==============================] - 10s 21ms/step\n",
      "Prediction:  7\n"
     ]
    },
    {
     "data": {
      "image/png": "[encoded data removed]",
      "text/plain": [
       "<Figure size 432x288 with 1 Axes>"
      ]
     },
     "metadata": {
      "needs_background": "light"
     },
     "output_type": "display_data"
    }
   ],
   "source": [
    "es_callback = EarlyStopping(patience = 2)\n",
    "\n",
    "rnnModel = Sequential()\n",
    "#CuDNNLSTM\n",
    "\n",
    "rnnModel.add(LSTM(256, input_shape=(x_train.shape[1:]),  return_sequences=True, activation='relu'))\n",
    "rnnModel.add(LSTM(256))\n",
    "rnnModel.add(Dense(64, activation='softmax'))\n",
    "rnnModel.add(Dropout(0.2))\n",
    "rnnModel.add(Dense(10, activation='relu'))\n",
    "rnnModel.summary()\n",
    "          \n",
    "\n",
    "rnnModel.compile(loss='sparse_categorical_crossentropy', optimizer='adam', metrics=['accuracy'])\n",
    "\n",
    "history = rnnModel.fit(x_train, y_train, validation_data=(x_val, y_val), verbose = 1, batch_size=128, epochs=2, callbacks=[es_callback])\n",
    "results = rnnModel.evaluate(x_test, y_test)\n",
    "print(\"test loss, test acc:\", results)\n",
    "\n",
    "rnnModel.summary()\n",
    "rnnloss, rnnaccuracy = rnnModel.evaluate(x_test, y_test)\n",
    "print(\"Loss : \" , loss)\n",
    "print(\"Accuracy : \" , accuracy)\n",
    "\n",
    "y_pred = rnnModel.predict(x_test, batch_size=64, verbose=1)\n",
    "y_pred_bool = numpy.argmax(y_pred, axis=1)\n",
    "\n",
    "print(classification_report(y_test, y_pred_bool))\n",
    "\n",
    "prediction = rnnModel.predict([x_test])\n",
    "print('Prediction: ', numpy.argmax(prediction[10]))\n",
    "plt.imshow(x_test[10])\n",
    "plt.show()\n"
   ]
  },
  {
   "cell_type": "code",
   "execution_count": 47,
   "metadata": {},
   "outputs": [
    {
     "name": "stdout",
     "output_type": "stream",
     "text": [
      "438/438 [==============================] - 10s 20ms/step - loss: 1.3097 - accuracy: 0.6312\n",
      "What is the file namesample_image5.png\n",
      "1/1 [==============================] - 0s 437ms/step\n",
      "6\n"
     ]
    }
   ],
   "source": [
    "rnnModel_json = rnnModel.to_json()\n",
    "with open(\"rnnModel.json\", \"w\") as json_file:\n",
    "    json_file.write(rnnModel_json)\n",
    "rnnModel.save_weights(\"rnnModel.h5\")\n",
    "\n",
    "rnnModeljsonfile = open('rnnModel.json', 'r')\n",
    "loaded_rnnModel_json = rnnModeljsonfile.read()\n",
    "rnnModeljsonfile.close()\n",
    "rnnModelNew = model_from_json(loaded_rnnModel_json)\n",
    "rnnModelNew.load_weights(\"rnnModel.h5\")\n",
    "\n",
    "rnnModelNew.compile(optimizer='adam', loss='sparse_categorical_crossentropy', metrics=['accuracy'])\n",
    "loss, accuracy = rnnModelNew.evaluate(x_test, y_test)\n",
    "def load_image(filename):\n",
    "    img = load_img(filename, grayscale = True, target_size=(28,28))\n",
    "    img = img_to_array(img)\n",
    "    img = img.reshape(1, 28, 28, 1)\n",
    "\n",
    "    img = img.astype('float32')\n",
    "    img = img/255.0\n",
    "    return img\n",
    "file = input(\"What is the file name\")\n",
    "img = load_image(file)\n",
    "predict_value = rnnModelNew.predict(img)\n",
    "digit = numpy.argmax(predict_value)\n",
    "print(digit)\n",
    "rnnloss1 = str(lossrnn)\n",
    "rnnaccuracy1 = str(accuracyrnn)\n",
    "rnndigit1 = str(digitrnn)\n",
    "with open('resultsRNN.txt', 'w') as f:\n",
    "    f.write(\"This is the loss \\n\")\n",
    "    f.writelines(loss1)\n",
    "    f.write(\"\\n\")\n",
    "    f.write(\"This is the accuracy \\n\")\n",
    "    f.writelines(accuracy1)\n",
    "    f.write(\"\\n\")\n",
    "    f.write(\"Based on the file inputted, this RNN Model predicts that the value is :\")\n",
    "    f.write(\"\\n\")\n",
    "    f.writelines(digit1)\n",
    "    f.close()"
   ]
  },
  {
   "cell_type": "code",
   "execution_count": 38,
   "metadata": {},
   "outputs": [
    {
     "name": "stdout",
     "output_type": "stream",
     "text": [
      "Model: \"sequential_3\"\n",
      "_________________________________________________________________\n",
      " Layer (type)                Output Shape              Param #   \n",
      "=================================================================\n",
      " lstm_2 (LSTM)               (None, 28, 128)           80384     \n",
      "                                                                 \n",
      " lstm_3 (LSTM)               (None, 128)               131584    \n",
      "                                                                 \n",
      " dropout_3 (Dropout)         (None, 128)               0         \n",
      "                                                                 \n",
      " dense_5 (Dense)             (None, 10)                1290      \n",
      "                                                                 \n",
      "=================================================================\n",
      "Total params: 213,258\n",
      "Trainable params: 213,258\n",
      "Non-trainable params: 0\n",
      "_________________________________________________________________\n",
      "Epoch 1/5\n",
      "329/329 [==============================] - 33s 93ms/step - loss: 2.3610 - accuracy: 0.4271 - val_loss: 2.2986 - val_accuracy: 0.0992\n",
      "Epoch 2/5\n",
      "329/329 [==============================] - 30s 90ms/step - loss: 2.3033 - accuracy: 0.0988 - val_loss: 2.3026 - val_accuracy: 0.0975\n",
      "Epoch 3/5\n",
      "329/329 [==============================] - 30s 90ms/step - loss: 2.3012 - accuracy: 0.0990 - val_loss: 2.3026 - val_accuracy: 0.0975\n",
      "Epoch 4/5\n",
      "329/329 [==============================] - 29s 88ms/step - loss: 2.3010 - accuracy: 0.0991 - val_loss: 2.3026 - val_accuracy: 0.0975\n",
      "438/438 [==============================] - 5s 11ms/step - loss: 2.3026 - accuracy: 0.1004\n",
      "test loss, test acc: [2.3025970458984375, 0.10042857378721237]\n",
      "Model: \"sequential_3\"\n",
      "_________________________________________________________________\n",
      " Layer (type)                Output Shape              Param #   \n",
      "=================================================================\n",
      " lstm_2 (LSTM)               (None, 28, 128)           80384     \n",
      "                                                                 \n",
      " lstm_3 (LSTM)               (None, 128)               131584    \n",
      "                                                                 \n",
      " dropout_3 (Dropout)         (None, 128)               0         \n",
      "                                                                 \n",
      " dense_5 (Dense)             (None, 10)                1290      \n",
      "                                                                 \n",
      "=================================================================\n",
      "Total params: 213,258\n",
      "Trainable params: 213,258\n",
      "Non-trainable params: 0\n",
      "_________________________________________________________________\n",
      "438/438 [==============================] - 5s 11ms/step - loss: 2.3026 - accuracy: 0.1004\n",
      "Loss :  2.3025970458984375\n",
      "Accuracy :  0.10042857378721237\n",
      "219/219 [==============================] - 4s 17ms/step\n",
      "              precision    recall  f1-score   support\n",
      "\n",
      "           0       0.10      1.00      0.18      1406\n",
      "           1       0.00      0.00      0.00      1572\n",
      "           2       0.00      0.00      0.00      1330\n",
      "           3       0.00      0.00      0.00      1436\n",
      "           4       0.00      0.00      0.00      1389\n",
      "           5       0.00      0.00      0.00      1211\n",
      "           6       0.00      0.00      0.00      1410\n",
      "           7       0.00      0.00      0.00      1477\n",
      "           8       0.00      0.00      0.00      1351\n",
      "           9       0.00      0.00      0.00      1418\n",
      "\n",
      "    accuracy                           0.10     14000\n",
      "   macro avg       0.01      0.10      0.02     14000\n",
      "weighted avg       0.01      0.10      0.02     14000\n",
      "\n"
     ]
    },
    {
     "name": "stderr",
     "output_type": "stream",
     "text": [
      "/Users/aadithyanair/opt/anaconda3/lib/python3.8/site-packages/sklearn/metrics/_classification.py:1221: UndefinedMetricWarning: Precision and F-score are ill-defined and being set to 0.0 in labels with no predicted samples. Use `zero_division` parameter to control this behavior.\n",
      "  _warn_prf(average, modifier, msg_start, len(result))\n"
     ]
    },
    {
     "name": "stdout",
     "output_type": "stream",
     "text": [
      "438/438 [==============================] - 5s 11ms/step\n",
      "Prediction:  0\n"
     ]
    },
    {
     "data": {
      "image/png": "[encoded data removed]",
      "text/plain": [
       "<Figure size 432x288 with 1 Axes>"
      ]
     },
     "metadata": {
      "needs_background": "light"
     },
     "output_type": "display_data"
    }
   ],
   "source": [
    "es_callback = EarlyStopping(patience = 3)\n",
    "model4 = Sequential()\n",
    "model4.add(LSTM(128,input_shape=(x_train.shape[1:]),  return_sequences=True, activation='relu') )\n",
    "model4.add(LSTM(128))\n",
    "model4.add(Dropout(0.2))\n",
    "model4.add(Dense(10, activation='relu'))\n",
    "model4.summary()\n",
    "\n",
    "\n",
    "          \n",
    "\n",
    "model4.compile(loss='sparse_categorical_crossentropy', optimizer='adam', metrics=['accuracy'])\n",
    "\n",
    "history = model4.fit(x_train, y_train, validation_data=(x_val, y_val), verbose = 1, batch_size=128, epochs=5, callbacks=[es_callback])\n",
    "results = model4.evaluate(x_test, y_test)\n",
    "print(\"test loss, test acc:\", results)\n",
    "\n",
    "model4.summary()\n",
    "loss, accuracy = model4.evaluate(x_test, y_test)\n",
    "print(\"Loss : \" , loss)\n",
    "print(\"Accuracy : \" , accuracy)\n",
    "\n",
    "y_pred = model4.predict(x_test, batch_size=64, verbose=1)\n",
    "y_pred_bool = numpy.argmax(y_pred, axis=1)\n",
    "\n",
    "print(classification_report(y_test, y_pred_bool))\n",
    "\n",
    "prediction = model4.predict([x_test])\n",
    "print('Prediction: ', numpy.argmax(prediction[10]))\n",
    "plt.imshow(x_test[10])\n",
    "plt.show()"
   ]
  },
  {
   "cell_type": "code",
   "execution_count": 39,
   "metadata": {},
   "outputs": [
    {
     "name": "stdout",
     "output_type": "stream",
     "text": [
      "438/438 [==============================] - 6s 11ms/step - loss: 2.3026 - accuracy: 0.1004\n",
      "What is the file namesample_image7.png\n",
      "1/1 [==============================] - 0s 458ms/step\n",
      "0\n"
     ]
    }
   ],
   "source": [
    "rnn4Model_json = model4.to_json()\n",
    "with open(\"rnn4Model.json\", \"w\") as json_file:\n",
    "    json_file.write(rnn4Model_json)\n",
    "model4.save_weights(\"rnn4Model.h5\")\n",
    "\n",
    "rnn4Modeljsonfile = open('rnn4Model.json', 'r')\n",
    "loaded_rnn4Model_json = rnn4Modeljsonfile.read()\n",
    "rnn4Modeljsonfile.close()\n",
    "rnn4ModelNew = model_from_json(loaded_rnn4Model_json)\n",
    "rnn4ModelNew.load_weights(\"rnn4Model.h5\")\n",
    "\n",
    "rnn4ModelNew.compile(optimizer='adam', loss='sparse_categorical_crossentropy', metrics=['accuracy'])\n",
    "loss, accuracy = rnn4ModelNew.evaluate(x_test, y_test)\n",
    "def load_image(filename):\n",
    "    img = load_img(filename, grayscale = True, target_size=(28,28))\n",
    "    img = img_to_array(img)\n",
    "    img = img.reshape(1, 28, 28, 1)\n",
    "\n",
    "    img = img.astype('float32')\n",
    "    img = img/255.0\n",
    "    return img\n",
    "file = input(\"What is the file name\")\n",
    "img = load_image(file)\n",
    "predict_value = rnn4ModelNew.predict(img)\n",
    "digit = numpy.argmax(predict_value)\n",
    "print(digit)\n",
    "loss1 = str(loss)\n",
    "accuracy1 = str(accuracy)\n",
    "digit1 = str(digit)\n",
    "with open('resultsRNN4.txt', 'w') as f:\n",
    "    f.write(\"This is the loss \\n\")\n",
    "    f.writelines(loss1)\n",
    "    f.write(\"\\n\")\n",
    "    f.write(\"This is the accuracy \\n\")\n",
    "    f.writelines(accuracy1)\n",
    "    f.write(\"\\n\")\n",
    "    f.write(\"Based on the file inputted, this RNN Model predicts that the value is :\")\n",
    "    f.write(\"\\n\")\n",
    "    f.writelines(digit1)\n",
    "    f.close()"
   ]
  },
  {
   "cell_type": "code",
   "execution_count": 48,
   "metadata": {},
   "outputs": [
    {
     "name": "stdout",
     "output_type": "stream",
     "text": [
      "Epoch 1/10\n",
      "329/329 [==============================] - 16s 41ms/step - loss: 1.9881 - accuracy: 0.4409 - val_loss: 1.7250 - val_accuracy: 0.5829\n",
      "Epoch 2/10\n",
      "329/329 [==============================] - 13s 40ms/step - loss: 1.5545 - accuracy: 0.5770 - val_loss: 1.3669 - val_accuracy: 0.6539\n",
      "Epoch 3/10\n",
      "329/329 [==============================] - 15s 46ms/step - loss: 1.2797 - accuracy: 0.6077 - val_loss: 1.1264 - val_accuracy: 0.6587\n",
      "Epoch 4/10\n",
      "329/329 [==============================] - 13s 41ms/step - loss: 1.0950 - accuracy: 0.6140 - val_loss: 0.9526 - val_accuracy: 0.6696\n",
      "Epoch 5/10\n",
      "329/329 [==============================] - 13s 38ms/step - loss: 0.9764 - accuracy: 0.6210 - val_loss: 0.8253 - val_accuracy: 0.6788\n",
      "Epoch 6/10\n",
      "329/329 [==============================] - 13s 39ms/step - loss: 0.9045 - accuracy: 0.6229 - val_loss: 0.7727 - val_accuracy: 0.6824\n",
      "Epoch 7/10\n",
      "329/329 [==============================] - 13s 39ms/step - loss: 0.8409 - accuracy: 0.6294 - val_loss: 0.7039 - val_accuracy: 0.6849\n",
      "Epoch 8/10\n",
      "329/329 [==============================] - 13s 38ms/step - loss: 0.8049 - accuracy: 0.6318 - val_loss: 0.6520 - val_accuracy: 0.6929\n",
      "Epoch 9/10\n",
      "329/329 [==============================] - 13s 38ms/step - loss: 0.7694 - accuracy: 0.6342 - val_loss: 0.6192 - val_accuracy: 0.6922\n",
      "Epoch 10/10\n",
      "329/329 [==============================] - 13s 39ms/step - loss: 0.7435 - accuracy: 0.6378 - val_loss: 0.6114 - val_accuracy: 0.6869\n",
      "438/438 [==============================] - 2s 5ms/step - loss: 0.6125 - accuracy: 0.6885\n",
      "test loss, test acc: [0.6124622225761414, 0.6884999871253967]\n",
      "Model: \"sequential_4\"\n",
      "_________________________________________________________________\n",
      " Layer (type)                Output Shape              Param #   \n",
      "=================================================================\n",
      " lstm_4 (LSTM)               (None, 28, 64)            23808     \n",
      "                                                                 \n",
      " lstm_5 (LSTM)               (None, 64)                33024     \n",
      "                                                                 \n",
      " dropout_1 (Dropout)         (None, 64)                0         \n",
      "                                                                 \n",
      " dense_9 (Dense)             (None, 32)                2080      \n",
      "                                                                 \n",
      " dropout_2 (Dropout)         (None, 32)                0         \n",
      "                                                                 \n",
      " dense_10 (Dense)            (None, 10)                330       \n",
      "                                                                 \n",
      "=================================================================\n",
      "Total params: 59,242\n",
      "Trainable params: 59,242\n",
      "Non-trainable params: 0\n",
      "_________________________________________________________________\n",
      "438/438 [==============================] - 2s 5ms/step - loss: 0.6125 - accuracy: 0.6885\n",
      "Loss :  0.6124622225761414\n",
      "Accuracy :  0.6884999871253967\n",
      "219/219 [==============================] - 3s 10ms/step\n",
      "              precision    recall  f1-score   support\n",
      "\n",
      "           0       0.95      0.99      0.97      1359\n",
      "           1       0.99      0.99      0.99      1589\n",
      "           2       0.44      0.01      0.02      1358\n",
      "           3       0.50      0.96      0.65      1429\n",
      "           4       0.28      0.02      0.03      1355\n",
      "           5       0.35      0.01      0.01      1315\n",
      "           6       0.99      0.95      0.97      1358\n",
      "           7       0.93      0.99      0.96      1446\n",
      "           8       0.49      0.91      0.64      1395\n",
      "           9       0.49      0.94      0.65      1396\n",
      "\n",
      "    accuracy                           0.69     14000\n",
      "   macro avg       0.64      0.68      0.59     14000\n",
      "weighted avg       0.65      0.69      0.60     14000\n",
      "\n",
      "438/438 [==============================] - 3s 5ms/step\n",
      "Prediction:  9\n"
     ]
    },
    {
     "data": {
      "image/png": "[encoded data removed]",
      "text/plain": [
       "<Figure size 432x288 with 1 Axes>"
      ]
     },
     "metadata": {
      "needs_background": "light"
     },
     "output_type": "display_data"
    }
   ],
   "source": [
    "callbacksbb = EarlyStopping(patience = 2)\n",
    "rnnmodel3 = Sequential()\n",
    "rnnmodel3.add(LSTM(64,input_shape=(x_train.shape[1:]),  return_sequences=True,  activation ='relu') )\n",
    "rnnmodel3.add(LSTM(64))\n",
    "rnnmodel3.add(Dropout(0.1))\n",
    "rnnmodel3.add(Dense(32, activation='softmax'))\n",
    "rnnmodel3.add(Dropout(0.1))\n",
    "rnnmodel3.add(Dense(10, activation='softmax'))\n",
    "       \n",
    "rnnmodel3.compile(loss='sparse_categorical_crossentropy', optimizer='adam', metrics=['accuracy'])\n",
    "\n",
    "history = rnnmodel3.fit(x_train, y_train, validation_data=(x_val, y_val), verbose = 1, batch_size=128, epochs=10, callbacks=[callbacksbb])\n",
    "results = rnnmodel3.evaluate(x_test, y_test)\n",
    "print(\"test loss, test acc:\", results)\n",
    "\n",
    "rnnmodel3.summary()\n",
    "loss, accuracy = rnnmodel3.evaluate(x_test, y_test)\n",
    "print(\"Loss : \" , loss)\n",
    "print(\"Accuracy : \" , accuracy)\n",
    "\n",
    "y_pred = rnnmodel3.predict(x_test, batch_size=64, verbose=1)\n",
    "y_pred_bool = numpy.argmax(y_pred, axis=1)\n",
    "\n",
    "print(classification_report(y_test, y_pred_bool))\n",
    "\n",
    "prediction = rnnmodel3.predict([x_test])\n",
    "print('Prediction: ', numpy.argmax(prediction[10]))\n",
    "plt.imshow(x_test[10])\n",
    "plt.show()\n"
   ]
  },
  {
   "cell_type": "code",
   "execution_count": 49,
   "metadata": {},
   "outputs": [
    {
     "name": "stdout",
     "output_type": "stream",
     "text": [
      "438/438 [==============================] - 3s 5ms/step - loss: 0.6125 - accuracy: 0.6885\n"
     ]
    }
   ],
   "source": [
    "rnn3Model_json = rnnmodel3.to_json()\n",
    "with open(\"rnn3Model.json\", \"w\") as json_file:\n",
    "    json_file.write(rnn3Model_json)\n",
    "rnnmodel3.save_weights(\"rnn3Model.h5\")\n",
    "\n",
    "rnn3Modeljsonfile = open('rnn3Model.json', 'r')\n",
    "loaded_rnn3Model_json = rnn3Modeljsonfile.read()\n",
    "rnn3Modeljsonfile.close()\n",
    "rnn3ModelNew = model_from_json(loaded_rnn3Model_json)\n",
    "rnn3ModelNew.load_weights(\"rnn3Model.h5\")\n",
    "\n",
    "rnn3ModelNew.compile(optimizer='adam', loss='sparse_categorical_crossentropy', metrics=['accuracy'])\n",
    "loss, accuracy = rnn3ModelNew.evaluate(x_test, y_test)"
   ]
  },
  {
   "cell_type": "code",
   "execution_count": 50,
   "metadata": {},
   "outputs": [
    {
     "name": "stdout",
     "output_type": "stream",
     "text": [
      "What is the file namesample_image6.png\n",
      "1/1 [==============================] - 0s 414ms/step\n",
      "6\n"
     ]
    }
   ],
   "source": [
    "\n",
    "def load_image(filename):\n",
    "    img = load_img(filename, grayscale = True, target_size=(28,28))\n",
    "    img = img_to_array(img)\n",
    "    img = img.reshape(1, 28, 28, 1)\n",
    "\n",
    "    img = img.astype('float32')\n",
    "    img = img/255.0\n",
    "    return img\n",
    "file = input(\"What is the file name\")\n",
    "img = load_image(file)\n",
    "predict_value = rnn3ModelNew.predict(img)\n",
    "digit = numpy.argmax(predict_value)\n",
    "print(digit)\n",
    "loss1 = str(loss)\n",
    "accuracy1 = str(accuracy)\n",
    "digit1 = str(digit)\n",
    "with open('resultsRNN3.txt', 'w') as f:\n",
    "    f.write(\"This is the loss \\n\")\n",
    "    f.writelines(loss1)\n",
    "    f.write(\"\\n\")\n",
    "    f.write(\"This is the accuracy \\n\")\n",
    "    f.writelines(accuracy1)\n",
    "    f.write(\"\\n\")\n",
    "    f.write(\"Based on the file inputted, this RNN Model predicts that the value is :\")\n",
    "    f.write(\"\\n\")\n",
    "    f.writelines(digit1)\n",
    "    f.close()"
   ]
  },
  {
   "cell_type": "markdown",
   "metadata": {},
   "source": [
    "# CNN Implementation"
   ]
  },
  {
   "cell_type": "markdown",
   "metadata": {},
   "source": [
    "Reshaping the Data"
   ]
  },
  {
   "cell_type": "code",
   "execution_count": 51,
   "metadata": {},
   "outputs": [],
   "source": [
    "x_train1 = x_train.reshape(x_train.shape[0], 28, 28, 1)\n",
    "x_val1 = x_val.reshape(x_val.shape[0], 28, 28 ,1)\n",
    "x_test1 = x_test.reshape(x_test.shape[0], 28, 28, 1)\n",
    "\n"
   ]
  },
  {
   "cell_type": "code",
   "execution_count": 52,
   "metadata": {},
   "outputs": [
    {
     "name": "stdout",
     "output_type": "stream",
     "text": [
      "Epoch 1/4\n",
      "1313/1313 [==============================] - 72s 54ms/step - loss: 0.2243 - accuracy: 0.9356 - val_loss: 0.0818 - val_accuracy: 0.9755\n",
      "Epoch 2/4\n",
      "1313/1313 [==============================] - 70s 53ms/step - loss: 0.0823 - accuracy: 0.9755 - val_loss: 0.0686 - val_accuracy: 0.9779\n",
      "Epoch 3/4\n",
      "1313/1313 [==============================] - 71s 54ms/step - loss: 0.0627 - accuracy: 0.9807 - val_loss: 0.0477 - val_accuracy: 0.9856\n",
      "Epoch 4/4\n",
      "1313/1313 [==============================] - 71s 54ms/step - loss: 0.0525 - accuracy: 0.9842 - val_loss: 0.0479 - val_accuracy: 0.9854\n"
     ]
    },
    {
     "data": {
      "text/plain": [
       "<keras.callbacks.History at 0x7f95c8a3a040>"
      ]
     },
     "execution_count": 52,
     "metadata": {},
     "output_type": "execute_result"
    }
   ],
   "source": [
    "# Model\n",
    "cnnmodel = Sequential()\n",
    "cnnmodel.add(Conv2D(28, kernel_size=(3,3), input_shape=(28,28,1)))\n",
    "cnnmodel.add(BatchNormalization())\n",
    "cnnmodel.add(Conv2D(32,kernel_size=(3, 3), activation='relu'))\n",
    "cnnmodel.add(BatchNormalization())\n",
    "cnnmodel.add(Conv2D(32,kernel_size=5,strides=2,padding='same',activation='relu'))\n",
    "cnnmodel.add(MaxPooling2D(pool_size=(2, 2)))\n",
    "cnnmodel.add(BatchNormalization())\n",
    "cnnmodel.add(Conv2D(64, kernel_size=(3, 3), strides=2,padding='same', activation='relu'))\n",
    "cnnmodel.add(MaxPooling2D(pool_size=(2, 2)))\n",
    "cnnmodel.add(BatchNormalization())\n",
    "cnnmodel.add(Conv2D(64, kernel_size=(3, 3), strides=2,padding='same', activation='relu'))\n",
    "cnnmodel.add(Flatten())\n",
    "cnnmodel.add(Dropout(0.2))\n",
    "cnnmodel.add(Dense(128, activation=tf.nn.relu))\n",
    "cnnmodel.add(Dense(10,activation=tf.nn.softmax))\n",
    "cnnmodel.compile(optimizer='adam', \n",
    "              loss='sparse_categorical_crossentropy', \n",
    "              metrics=['accuracy'])\n",
    "cnnmodel.fit(x=x_train1,y=y_train, validation_data=(x_val1, y_val), epochs=4)"
   ]
  },
  {
   "cell_type": "code",
   "execution_count": 53,
   "metadata": {},
   "outputs": [
    {
     "name": "stdout",
     "output_type": "stream",
     "text": [
      "Model: \"sequential_5\"\n",
      "_________________________________________________________________\n",
      " Layer (type)                Output Shape              Param #   \n",
      "=================================================================\n",
      " conv2d (Conv2D)             (None, 26, 26, 28)        280       \n",
      "                                                                 \n",
      " batch_normalization (BatchN  (None, 26, 26, 28)       112       \n",
      " ormalization)                                                   \n",
      "                                                                 \n",
      " conv2d_1 (Conv2D)           (None, 24, 24, 32)        8096      \n",
      "                                                                 \n",
      " batch_normalization_1 (Batc  (None, 24, 24, 32)       128       \n",
      " hNormalization)                                                 \n",
      "                                                                 \n",
      " conv2d_2 (Conv2D)           (None, 12, 12, 32)        25632     \n",
      "                                                                 \n",
      " max_pooling2d (MaxPooling2D  (None, 6, 6, 32)         0         \n",
      " )                                                               \n",
      "                                                                 \n",
      " batch_normalization_2 (Batc  (None, 6, 6, 32)         128       \n",
      " hNormalization)                                                 \n",
      "                                                                 \n",
      " conv2d_3 (Conv2D)           (None, 3, 3, 64)          18496     \n",
      "                                                                 \n",
      " max_pooling2d_1 (MaxPooling  (None, 1, 1, 64)         0         \n",
      " 2D)                                                             \n",
      "                                                                 \n",
      " batch_normalization_3 (Batc  (None, 1, 1, 64)         256       \n",
      " hNormalization)                                                 \n",
      "                                                                 \n",
      " conv2d_4 (Conv2D)           (None, 1, 1, 64)          36928     \n",
      "                                                                 \n",
      " flatten_2 (Flatten)         (None, 64)                0         \n",
      "                                                                 \n",
      " dropout_3 (Dropout)         (None, 64)                0         \n",
      "                                                                 \n",
      " dense_11 (Dense)            (None, 128)               8320      \n",
      "                                                                 \n",
      " dense_12 (Dense)            (None, 10)                1290      \n",
      "                                                                 \n",
      "=================================================================\n",
      "Total params: 99,666\n",
      "Trainable params: 99,354\n",
      "Non-trainable params: 312\n",
      "_________________________________________________________________\n",
      "438/438 [==============================] - 3s 8ms/step - loss: 0.0485 - accuracy: 0.9856\n",
      "Loss :  0.04854677617549896\n",
      "Accuracy :  0.9855714440345764\n",
      "219/219 [==============================] - 3s 14ms/step\n",
      "              precision    recall  f1-score   support\n",
      "\n",
      "           0       1.00      0.99      0.99      1359\n",
      "           1       0.99      1.00      0.99      1589\n",
      "           2       0.99      0.99      0.99      1358\n",
      "           3       0.98      0.99      0.99      1429\n",
      "           4       0.98      0.99      0.98      1355\n",
      "           5       0.99      0.98      0.99      1315\n",
      "           6       0.99      0.99      0.99      1358\n",
      "           7       0.99      0.96      0.98      1446\n",
      "           8       0.99      0.98      0.98      1395\n",
      "           9       0.95      0.99      0.97      1396\n",
      "\n",
      "    accuracy                           0.99     14000\n",
      "   macro avg       0.99      0.99      0.99     14000\n",
      "weighted avg       0.99      0.99      0.99     14000\n",
      "\n",
      "438/438 [==============================] - 3s 8ms/step\n",
      "Prediction:  9\n"
     ]
    },
    {
     "data": {
      "image/png": "[encoded data removed]",
      "text/plain": [
       "<Figure size 432x288 with 1 Axes>"
      ]
     },
     "metadata": {
      "needs_background": "light"
     },
     "output_type": "display_data"
    }
   ],
   "source": [
    "cnnmodel.summary()\n",
    "loss, accuracy = cnnmodel.evaluate(x_test1, y_test)\n",
    "print(\"Loss : \" , loss)\n",
    "print(\"Accuracy : \" , accuracy)\n",
    "\n",
    "y_pred = cnnmodel.predict(x_test1, batch_size=64, verbose=1)\n",
    "y_pred_bool = numpy.argmax(y_pred, axis=1)\n",
    "\n",
    "print(classification_report(y_test, y_pred_bool))\n",
    "\n",
    "prediction = cnnmodel.predict([x_test1])\n",
    "print('Prediction: ', numpy.argmax(prediction[10]))\n",
    "plt.imshow(x_test1[10])\n",
    "plt.show()"
   ]
  },
  {
   "cell_type": "code",
   "execution_count": 56,
   "metadata": {},
   "outputs": [
    {
     "name": "stdout",
     "output_type": "stream",
     "text": [
      "438/438 [==============================] - 4s 8ms/step - loss: 0.0485 - accuracy: 0.9856\n"
     ]
    }
   ],
   "source": [
    "cnnModel_json = cnnmodel.to_json()\n",
    "with open(\"cnnModel.json\", \"w\") as json_file:\n",
    "    json_file.write(cnnModel_json)\n",
    "cnnmodel.save_weights(\"cnnModel.h5\")\n",
    "\n",
    "cnnModeljsonfile = open('cnnModel.json', 'r')\n",
    "loaded_cnnModel_json = cnnModeljsonfile.read()\n",
    "cnnModeljsonfile.close()\n",
    "cnnModelNew = model_from_json(loaded_cnnModel_json)\n",
    "cnnModelNew.load_weights(\"cnnModel.h5\")\n",
    "\n",
    "cnnModelNew.compile(optimizer='adam', loss='sparse_categorical_crossentropy', metrics=['accuracy'])\n",
    "loss, accuracy = cnnModelNew.evaluate(x_test, y_test)\n"
   ]
  },
  {
   "cell_type": "code",
   "execution_count": 57,
   "metadata": {},
   "outputs": [
    {
     "name": "stdout",
     "output_type": "stream",
     "text": [
      "What is the file namesample_image8.png\n",
      "1/1 [==============================] - 0s 109ms/step\n",
      "8\n"
     ]
    }
   ],
   "source": [
    "def load_image(filename):\n",
    "    img = load_img(filename, grayscale = True, target_size=(28,28))\n",
    "    img = img_to_array(img)\n",
    "    img = img.reshape(1, 28, 28, 1)\n",
    "\n",
    "    img = img.astype('float32')\n",
    "    img = img/255.0\n",
    "    return img\n",
    "file = input(\"What is the file name\")\n",
    "img = load_image(file)\n",
    "predict_value = cnnModelNew.predict(img)\n",
    "digit = numpy.argmax(predict_value)\n",
    "print(digit)\n",
    "loss1 = str(loss)\n",
    "accuracy1 = str(accuracy)\n",
    "digit1 = str(digit)\n",
    "with open('resultsCNN.txt', 'w') as f:\n",
    "    f.write(\"This is the loss \\n\")\n",
    "    f.writelines(loss1)\n",
    "    f.write(\"\\n\")\n",
    "    f.write(\"This is the accuracy \\n\")\n",
    "    f.writelines(accuracy1)\n",
    "    f.write(\"\\n\")\n",
    "    f.write(\"Based on the file inputted, the CNN Model predicts that the value is :\")\n",
    "    f.write(\"\\n\")\n",
    "    f.writelines(digit1)\n",
    "    f.close()"
   ]
  },
  {
   "cell_type": "markdown",
   "metadata": {},
   "source": [
    "# Training Different CNN Architectures"
   ]
  },
  {
   "cell_type": "markdown",
   "metadata": {},
   "source": [
    "# GRU Implementation"
   ]
  },
  {
   "cell_type": "code",
   "execution_count": 58,
   "metadata": {},
   "outputs": [],
   "source": [
    "from tensorflow.keras.layers import GRU\n",
    "from tensorflow.keras.callbacks import ModelCheckpoint, EarlyStopping"
   ]
  },
  {
   "cell_type": "code",
   "execution_count": 59,
   "metadata": {},
   "outputs": [
    {
     "name": "stdout",
     "output_type": "stream",
     "text": [
      "Model: \"sequential_6\"\n",
      "_________________________________________________________________\n",
      " Layer (type)                Output Shape              Param #   \n",
      "=================================================================\n",
      " gru (GRU)                   (None, 28, 256)           219648    \n",
      "                                                                 \n",
      " gru_1 (GRU)                 (None, 256)               394752    \n",
      "                                                                 \n",
      " dense_13 (Dense)            (None, 10)                2570      \n",
      "                                                                 \n",
      "=================================================================\n",
      "Total params: 616,970\n",
      "Trainable params: 616,970\n",
      "Non-trainable params: 0\n",
      "_________________________________________________________________\n",
      "Epoch 1/4\n",
      "657/657 [==============================] - 61s 90ms/step - loss: 0.5247 - accuracy: 0.8170 - val_loss: 0.1616 - val_accuracy: 0.9492\n",
      "Epoch 2/4\n",
      "657/657 [==============================] - 60s 91ms/step - loss: 0.1287 - accuracy: 0.9599 - val_loss: 0.0960 - val_accuracy: 0.9706\n",
      "Epoch 3/4\n",
      "657/657 [==============================] - 60s 92ms/step - loss: 0.0859 - accuracy: 0.9727 - val_loss: 0.0678 - val_accuracy: 0.9784\n",
      "Epoch 4/4\n",
      "657/657 [==============================] - 59s 89ms/step - loss: 0.0648 - accuracy: 0.9794 - val_loss: 0.0541 - val_accuracy: 0.9837\n"
     ]
    },
    {
     "data": {
      "text/plain": [
       "<keras.callbacks.History at 0x7f95aa1923d0>"
      ]
     },
     "execution_count": 59,
     "metadata": {},
     "output_type": "execute_result"
    }
   ],
   "source": [
    "gru = Sequential([\n",
    "    GRU(256, input_shape=(28,28), return_sequences=True, activation='relu'),\n",
    "    GRU(256, activation='relu'),\n",
    "    Dense(10, activation='softmax')  \n",
    "    ])\n",
    "gru.compile(optimizer='adam', loss='sparse_categorical_crossentropy', metrics=['accuracy'])\n",
    "gru.summary()\n",
    "# Callbacks\n",
    "gru.fit(x_train, y_train, validation_data=(x_val, y_val), verbose=1, batch_size=64, epochs=4)\n",
    "\n",
    "\n",
    "\n"
   ]
  },
  {
   "cell_type": "code",
   "execution_count": 60,
   "metadata": {},
   "outputs": [
    {
     "name": "stdout",
     "output_type": "stream",
     "text": [
      "438/438 [==============================] - 6s 15ms/step - loss: 0.0540 - accuracy: 0.9826\n",
      "loss :  0.053998902440071106\n",
      "accuracy :  0.9825714230537415\n"
     ]
    }
   ],
   "source": [
    "loss, accuracy = gru.evaluate(x_test, y_test)\n",
    "print(\"loss : \" , loss)\n",
    "print(\"accuracy : \" , accuracy)\n"
   ]
  },
  {
   "cell_type": "code",
   "execution_count": 61,
   "metadata": {},
   "outputs": [
    {
     "name": "stdout",
     "output_type": "stream",
     "text": [
      "219/219 [==============================] - 6s 28ms/step\n",
      "              precision    recall  f1-score   support\n",
      "\n",
      "           0       0.99      0.99      0.99      1359\n",
      "           1       0.99      0.99      0.99      1589\n",
      "           2       0.99      0.98      0.98      1358\n",
      "           3       0.99      0.97      0.98      1429\n",
      "           4       0.98      0.98      0.98      1355\n",
      "           5       0.97      0.98      0.98      1315\n",
      "           6       0.98      0.99      0.99      1358\n",
      "           7       0.99      0.98      0.99      1446\n",
      "           8       0.98      0.98      0.98      1395\n",
      "           9       0.97      0.97      0.97      1396\n",
      "\n",
      "    accuracy                           0.98     14000\n",
      "   macro avg       0.98      0.98      0.98     14000\n",
      "weighted avg       0.98      0.98      0.98     14000\n",
      "\n"
     ]
    }
   ],
   "source": [
    "y_pred = gru.predict(x_test, batch_size=64, verbose=1)\n",
    "y_pred_bool = numpy.argmax(y_pred, axis=1)\n",
    "\n",
    "print(classification_report(y_test, y_pred_bool))"
   ]
  },
  {
   "cell_type": "code",
   "execution_count": 62,
   "metadata": {
    "scrolled": true
   },
   "outputs": [
    {
     "name": "stdout",
     "output_type": "stream",
     "text": [
      "438/438 [==============================] - 7s 14ms/step\n",
      "Prediction:  9\n"
     ]
    },
    {
     "data": {
      "image/png": "[encoded data removed]",
      "text/plain": [
       "<Figure size 432x288 with 1 Axes>"
      ]
     },
     "metadata": {
      "needs_background": "light"
     },
     "output_type": "display_data"
    }
   ],
   "source": [
    "prediction = gru.predict([x_test])\n",
    "print('Prediction: ', numpy.argmax(prediction[15]))\n",
    "plt.imshow(x_test[15])\n",
    "plt.show()"
   ]
  },
  {
   "cell_type": "code",
   "execution_count": 63,
   "metadata": {},
   "outputs": [
    {
     "name": "stdout",
     "output_type": "stream",
     "text": [
      "438/438 [==============================] - 7s 14ms/step - loss: 0.0540 - accuracy: 0.9826\n"
     ]
    }
   ],
   "source": [
    "gruModel_json = gru.to_json()\n",
    "with open(\"gruModel.json\", \"w\") as json_file:\n",
    "    json_file.write(gruModel_json)\n",
    "gru.save_weights(\"gruModel.h5\")\n",
    "\n",
    "gruModeljsonfile = open('gruModel.json', 'r')\n",
    "loaded_gruModel_json = gruModeljsonfile.read()\n",
    "gruModeljsonfile.close()\n",
    "gruModelNew = model_from_json(loaded_gruModel_json)\n",
    "gruModelNew.load_weights(\"gruModel.h5\")\n",
    "\n",
    "gruModelNew.compile(optimizer='adam', loss='sparse_categorical_crossentropy', metrics=['accuracy'])\n",
    "loss, accuracy = gruModelNew.evaluate(x_test, y_test)\n",
    "\n"
   ]
  },
  {
   "cell_type": "code",
   "execution_count": 65,
   "metadata": {},
   "outputs": [
    {
     "name": "stdout",
     "output_type": "stream",
     "text": [
      "What is the file namesample_image7.png\n",
      "1/1 [==============================] - 0s 23ms/step\n",
      "7\n"
     ]
    }
   ],
   "source": [
    "def load_image(filename):\n",
    "    img = load_img(filename, grayscale = True, target_size=(28,28))\n",
    "    img = img_to_array(img)\n",
    "    img = img.reshape(1, 28, 28, 1)\n",
    "\n",
    "    img = img.astype('float32')\n",
    "    img = img/255.0\n",
    "    return img\n",
    "file = input(\"What is the file name\")\n",
    "img = load_image(file)\n",
    "predict_value = gruModelNew.predict(img)\n",
    "digit = numpy.argmax(predict_value)\n",
    "print(digit)\n",
    "loss1 = str(loss)\n",
    "accuracy1 = str(accuracy)\n",
    "digit1 = str(digit)\n",
    "with open('resultsGRU.txt', 'w') as f:\n",
    "    f.write(\"This is the loss \\n\")\n",
    "    f.writelines(loss1)\n",
    "    f.write(\"\\n\")\n",
    "    f.write(\"This is the accuracy \\n\")\n",
    "    f.writelines(accuracy1)\n",
    "    f.write(\"\\n\")\n",
    "    f.write(\"Based on the file inputted, the GRU Model predicts that the value is :\")\n",
    "    f.write(\"\\n\")\n",
    "    f.writelines(digit1)\n",
    "    f.close()"
   ]
  },
  {
   "cell_type": "code",
   "execution_count": null,
   "metadata": {},
   "outputs": [],
   "source": [
    "!pip install session-info\n",
    "import session_info\n",
    "session_info.show()"
   ]
  },
  {
   "cell_type": "code",
   "execution_count": null,
   "metadata": {},
   "outputs": [],
   "source": []
  }
 ],
 "metadata": {
  "kernelspec": {
   "display_name": "Python 3",
   "language": "python",
   "name": "python3"
  },
  "language_info": {
   "codemirror_mode": {
    "name": "ipython",
    "version": 3
   },
   "file_extension": ".py",
   "mimetype": "text/x-python",
   "name": "python",
   "nbconvert_exporter": "python",
   "pygments_lexer": "ipython3",
   "version": "3.8.5"
  }
 },
 "nbformat": 4,
 "nbformat_minor": 5
}
